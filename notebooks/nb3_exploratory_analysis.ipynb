{
 "cells": [
  {
   "cell_type": "code",
   "execution_count": 1,
   "metadata": {},
   "outputs": [],
   "source": [
    "## Import statements:\n",
    "import pandas as pd\n",
    "import matplotlib.pyplot as plt\n",
    "\n",
    "## Plot style:\n",
    "plt.style.use('seaborn')"
   ]
  },
  {
   "cell_type": "code",
   "execution_count": 27,
   "metadata": {},
   "outputs": [],
   "source": [
    "## Change the way big numbers are presented:\n",
    "pd.options.display.float_format = '{:20,.2f}'.format"
   ]
  },
  {
   "cell_type": "code",
   "execution_count": 2,
   "metadata": {},
   "outputs": [],
   "source": [
    "df = pd.read_excel('../datasets/AdventureWorks.xlsx')"
   ]
  },
  {
   "cell_type": "code",
   "execution_count": 3,
   "metadata": {},
   "outputs": [
    {
     "data": {
      "text/html": [
       "<div>\n",
       "<style scoped>\n",
       "    .dataframe tbody tr th:only-of-type {\n",
       "        vertical-align: middle;\n",
       "    }\n",
       "\n",
       "    .dataframe tbody tr th {\n",
       "        vertical-align: top;\n",
       "    }\n",
       "\n",
       "    .dataframe thead th {\n",
       "        text-align: right;\n",
       "    }\n",
       "</style>\n",
       "<table border=\"1\" class=\"dataframe\">\n",
       "  <thead>\n",
       "    <tr style=\"text-align: right;\">\n",
       "      <th></th>\n",
       "      <th>Data Venda</th>\n",
       "      <th>Data Envio</th>\n",
       "      <th>ID Loja</th>\n",
       "      <th>ID Produto</th>\n",
       "      <th>ID Cliente</th>\n",
       "      <th>No. Venda</th>\n",
       "      <th>Custo Unitário</th>\n",
       "      <th>Preço Unitário</th>\n",
       "      <th>Quantidade</th>\n",
       "      <th>Valor Desconto</th>\n",
       "      <th>Valor Venda</th>\n",
       "      <th>Produto</th>\n",
       "      <th>Fabricante</th>\n",
       "      <th>Marca</th>\n",
       "      <th>Classe</th>\n",
       "      <th>Cor</th>\n",
       "    </tr>\n",
       "  </thead>\n",
       "  <tbody>\n",
       "    <tr>\n",
       "      <th>0</th>\n",
       "      <td>2008-05-09</td>\n",
       "      <td>2008-05-29</td>\n",
       "      <td>199</td>\n",
       "      <td>384</td>\n",
       "      <td>18839</td>\n",
       "      <td>200805093CS607</td>\n",
       "      <td>348.58</td>\n",
       "      <td>758.0</td>\n",
       "      <td>6</td>\n",
       "      <td>0.0</td>\n",
       "      <td>4548.0</td>\n",
       "      <td>Adventure Works Laptop15.4W M1548 Red</td>\n",
       "      <td>Adventure Works</td>\n",
       "      <td>Adventure Works</td>\n",
       "      <td>Regular</td>\n",
       "      <td>Red</td>\n",
       "    </tr>\n",
       "    <tr>\n",
       "      <th>1</th>\n",
       "      <td>2008-05-12</td>\n",
       "      <td>2008-05-17</td>\n",
       "      <td>306</td>\n",
       "      <td>384</td>\n",
       "      <td>19051</td>\n",
       "      <td>200805123CS567</td>\n",
       "      <td>348.58</td>\n",
       "      <td>758.0</td>\n",
       "      <td>6</td>\n",
       "      <td>0.0</td>\n",
       "      <td>4548.0</td>\n",
       "      <td>Adventure Works Laptop15.4W M1548 Red</td>\n",
       "      <td>Adventure Works</td>\n",
       "      <td>Adventure Works</td>\n",
       "      <td>Regular</td>\n",
       "      <td>Red</td>\n",
       "    </tr>\n",
       "    <tr>\n",
       "      <th>2</th>\n",
       "      <td>2008-05-14</td>\n",
       "      <td>2008-05-20</td>\n",
       "      <td>306</td>\n",
       "      <td>384</td>\n",
       "      <td>19052</td>\n",
       "      <td>200805143CS576</td>\n",
       "      <td>348.58</td>\n",
       "      <td>758.0</td>\n",
       "      <td>6</td>\n",
       "      <td>0.0</td>\n",
       "      <td>4548.0</td>\n",
       "      <td>Adventure Works Laptop15.4W M1548 Red</td>\n",
       "      <td>Adventure Works</td>\n",
       "      <td>Adventure Works</td>\n",
       "      <td>Regular</td>\n",
       "      <td>Red</td>\n",
       "    </tr>\n",
       "    <tr>\n",
       "      <th>3</th>\n",
       "      <td>2008-05-21</td>\n",
       "      <td>2008-05-27</td>\n",
       "      <td>306</td>\n",
       "      <td>384</td>\n",
       "      <td>19052</td>\n",
       "      <td>200805213CS576</td>\n",
       "      <td>348.58</td>\n",
       "      <td>758.0</td>\n",
       "      <td>6</td>\n",
       "      <td>0.0</td>\n",
       "      <td>4548.0</td>\n",
       "      <td>Adventure Works Laptop15.4W M1548 Red</td>\n",
       "      <td>Adventure Works</td>\n",
       "      <td>Adventure Works</td>\n",
       "      <td>Regular</td>\n",
       "      <td>Red</td>\n",
       "    </tr>\n",
       "    <tr>\n",
       "      <th>4</th>\n",
       "      <td>2008-06-20</td>\n",
       "      <td>2008-06-27</td>\n",
       "      <td>306</td>\n",
       "      <td>384</td>\n",
       "      <td>19053</td>\n",
       "      <td>200806203CS586</td>\n",
       "      <td>348.58</td>\n",
       "      <td>758.0</td>\n",
       "      <td>6</td>\n",
       "      <td>0.0</td>\n",
       "      <td>4548.0</td>\n",
       "      <td>Adventure Works Laptop15.4W M1548 Red</td>\n",
       "      <td>Adventure Works</td>\n",
       "      <td>Adventure Works</td>\n",
       "      <td>Regular</td>\n",
       "      <td>Red</td>\n",
       "    </tr>\n",
       "  </tbody>\n",
       "</table>\n",
       "</div>"
      ],
      "text/plain": [
       "  Data Venda Data Envio  ID Loja  ID Produto  ID Cliente       No. Venda  \\\n",
       "0 2008-05-09 2008-05-29      199         384       18839  200805093CS607   \n",
       "1 2008-05-12 2008-05-17      306         384       19051  200805123CS567   \n",
       "2 2008-05-14 2008-05-20      306         384       19052  200805143CS576   \n",
       "3 2008-05-21 2008-05-27      306         384       19052  200805213CS576   \n",
       "4 2008-06-20 2008-06-27      306         384       19053  200806203CS586   \n",
       "\n",
       "   Custo Unitário  Preço Unitário  Quantidade  Valor Desconto  Valor Venda  \\\n",
       "0          348.58           758.0           6             0.0       4548.0   \n",
       "1          348.58           758.0           6             0.0       4548.0   \n",
       "2          348.58           758.0           6             0.0       4548.0   \n",
       "3          348.58           758.0           6             0.0       4548.0   \n",
       "4          348.58           758.0           6             0.0       4548.0   \n",
       "\n",
       "                                 Produto       Fabricante            Marca  \\\n",
       "0  Adventure Works Laptop15.4W M1548 Red  Adventure Works  Adventure Works   \n",
       "1  Adventure Works Laptop15.4W M1548 Red  Adventure Works  Adventure Works   \n",
       "2  Adventure Works Laptop15.4W M1548 Red  Adventure Works  Adventure Works   \n",
       "3  Adventure Works Laptop15.4W M1548 Red  Adventure Works  Adventure Works   \n",
       "4  Adventure Works Laptop15.4W M1548 Red  Adventure Works  Adventure Works   \n",
       "\n",
       "    Classe  Cor  \n",
       "0  Regular  Red  \n",
       "1  Regular  Red  \n",
       "2  Regular  Red  \n",
       "3  Regular  Red  \n",
       "4  Regular  Red  "
      ]
     },
     "execution_count": 3,
     "metadata": {},
     "output_type": "execute_result"
    }
   ],
   "source": [
    "df.head()"
   ]
  },
  {
   "cell_type": "code",
   "execution_count": 4,
   "metadata": {},
   "outputs": [
    {
     "data": {
      "text/plain": [
       "(904, 16)"
      ]
     },
     "execution_count": 4,
     "metadata": {},
     "output_type": "execute_result"
    }
   ],
   "source": [
    "df.shape"
   ]
  },
  {
   "cell_type": "code",
   "execution_count": 5,
   "metadata": {},
   "outputs": [
    {
     "data": {
      "text/plain": [
       "Data Venda        datetime64[ns]\n",
       "Data Envio        datetime64[ns]\n",
       "ID Loja                    int64\n",
       "ID Produto                 int64\n",
       "ID Cliente                 int64\n",
       "No. Venda                 object\n",
       "Custo Unitário           float64\n",
       "Preço Unitário           float64\n",
       "Quantidade                 int64\n",
       "Valor Desconto           float64\n",
       "Valor Venda              float64\n",
       "Produto                   object\n",
       "Fabricante                object\n",
       "Marca                     object\n",
       "Classe                    object\n",
       "Cor                       object\n",
       "dtype: object"
      ]
     },
     "execution_count": 5,
     "metadata": {},
     "output_type": "execute_result"
    }
   ],
   "source": [
    "df.dtypes"
   ]
  },
  {
   "cell_type": "code",
   "execution_count": 6,
   "metadata": {},
   "outputs": [
    {
     "data": {
      "text/plain": [
       "5984606.1426"
      ]
     },
     "execution_count": 6,
     "metadata": {},
     "output_type": "execute_result"
    }
   ],
   "source": [
    "df['Valor Venda'].sum()"
   ]
  },
  {
   "cell_type": "code",
   "execution_count": 7,
   "metadata": {},
   "outputs": [],
   "source": [
    "df['Custo'] = df['Custo Unitário'] * df['Quantidade']"
   ]
  },
  {
   "cell_type": "code",
   "execution_count": 8,
   "metadata": {},
   "outputs": [
    {
     "data": {
      "text/html": [
       "<div>\n",
       "<style scoped>\n",
       "    .dataframe tbody tr th:only-of-type {\n",
       "        vertical-align: middle;\n",
       "    }\n",
       "\n",
       "    .dataframe tbody tr th {\n",
       "        vertical-align: top;\n",
       "    }\n",
       "\n",
       "    .dataframe thead th {\n",
       "        text-align: right;\n",
       "    }\n",
       "</style>\n",
       "<table border=\"1\" class=\"dataframe\">\n",
       "  <thead>\n",
       "    <tr style=\"text-align: right;\">\n",
       "      <th></th>\n",
       "      <th>Data Venda</th>\n",
       "      <th>Data Envio</th>\n",
       "      <th>ID Loja</th>\n",
       "      <th>ID Produto</th>\n",
       "      <th>ID Cliente</th>\n",
       "      <th>No. Venda</th>\n",
       "      <th>Custo Unitário</th>\n",
       "      <th>Preço Unitário</th>\n",
       "      <th>Quantidade</th>\n",
       "      <th>Valor Desconto</th>\n",
       "      <th>Valor Venda</th>\n",
       "      <th>Produto</th>\n",
       "      <th>Fabricante</th>\n",
       "      <th>Marca</th>\n",
       "      <th>Classe</th>\n",
       "      <th>Cor</th>\n",
       "      <th>Custo</th>\n",
       "    </tr>\n",
       "  </thead>\n",
       "  <tbody>\n",
       "    <tr>\n",
       "      <th>0</th>\n",
       "      <td>2008-05-09</td>\n",
       "      <td>2008-05-29</td>\n",
       "      <td>199</td>\n",
       "      <td>384</td>\n",
       "      <td>18839</td>\n",
       "      <td>200805093CS607</td>\n",
       "      <td>348.58</td>\n",
       "      <td>758.0</td>\n",
       "      <td>6</td>\n",
       "      <td>0.0</td>\n",
       "      <td>4548.0</td>\n",
       "      <td>Adventure Works Laptop15.4W M1548 Red</td>\n",
       "      <td>Adventure Works</td>\n",
       "      <td>Adventure Works</td>\n",
       "      <td>Regular</td>\n",
       "      <td>Red</td>\n",
       "      <td>2091.48</td>\n",
       "    </tr>\n",
       "  </tbody>\n",
       "</table>\n",
       "</div>"
      ],
      "text/plain": [
       "  Data Venda Data Envio  ID Loja  ID Produto  ID Cliente       No. Venda  \\\n",
       "0 2008-05-09 2008-05-29      199         384       18839  200805093CS607   \n",
       "\n",
       "   Custo Unitário  Preço Unitário  Quantidade  Valor Desconto  Valor Venda  \\\n",
       "0          348.58           758.0           6             0.0       4548.0   \n",
       "\n",
       "                                 Produto       Fabricante            Marca  \\\n",
       "0  Adventure Works Laptop15.4W M1548 Red  Adventure Works  Adventure Works   \n",
       "\n",
       "    Classe  Cor    Custo  \n",
       "0  Regular  Red  2091.48  "
      ]
     },
     "execution_count": 8,
     "metadata": {},
     "output_type": "execute_result"
    }
   ],
   "source": [
    "df.head(1)"
   ]
  },
  {
   "cell_type": "code",
   "execution_count": 10,
   "metadata": {},
   "outputs": [
    {
     "data": {
      "text/plain": [
       "2486783.05"
      ]
     },
     "execution_count": 10,
     "metadata": {},
     "output_type": "execute_result"
    }
   ],
   "source": [
    "df.Custo.sum().round(2)"
   ]
  },
  {
   "cell_type": "code",
   "execution_count": 11,
   "metadata": {},
   "outputs": [],
   "source": [
    "df['Lucro'] = df['Valor Venda'] - df['Custo']"
   ]
  },
  {
   "cell_type": "code",
   "execution_count": 12,
   "metadata": {},
   "outputs": [
    {
     "data": {
      "text/html": [
       "<div>\n",
       "<style scoped>\n",
       "    .dataframe tbody tr th:only-of-type {\n",
       "        vertical-align: middle;\n",
       "    }\n",
       "\n",
       "    .dataframe tbody tr th {\n",
       "        vertical-align: top;\n",
       "    }\n",
       "\n",
       "    .dataframe thead th {\n",
       "        text-align: right;\n",
       "    }\n",
       "</style>\n",
       "<table border=\"1\" class=\"dataframe\">\n",
       "  <thead>\n",
       "    <tr style=\"text-align: right;\">\n",
       "      <th></th>\n",
       "      <th>Data Venda</th>\n",
       "      <th>Data Envio</th>\n",
       "      <th>ID Loja</th>\n",
       "      <th>ID Produto</th>\n",
       "      <th>ID Cliente</th>\n",
       "      <th>No. Venda</th>\n",
       "      <th>Custo Unitário</th>\n",
       "      <th>Preço Unitário</th>\n",
       "      <th>Quantidade</th>\n",
       "      <th>Valor Desconto</th>\n",
       "      <th>Valor Venda</th>\n",
       "      <th>Produto</th>\n",
       "      <th>Fabricante</th>\n",
       "      <th>Marca</th>\n",
       "      <th>Classe</th>\n",
       "      <th>Cor</th>\n",
       "      <th>Custo</th>\n",
       "      <th>Lucro</th>\n",
       "    </tr>\n",
       "  </thead>\n",
       "  <tbody>\n",
       "    <tr>\n",
       "      <th>0</th>\n",
       "      <td>2008-05-09</td>\n",
       "      <td>2008-05-29</td>\n",
       "      <td>199</td>\n",
       "      <td>384</td>\n",
       "      <td>18839</td>\n",
       "      <td>200805093CS607</td>\n",
       "      <td>348.58</td>\n",
       "      <td>758.0</td>\n",
       "      <td>6</td>\n",
       "      <td>0.0</td>\n",
       "      <td>4548.0</td>\n",
       "      <td>Adventure Works Laptop15.4W M1548 Red</td>\n",
       "      <td>Adventure Works</td>\n",
       "      <td>Adventure Works</td>\n",
       "      <td>Regular</td>\n",
       "      <td>Red</td>\n",
       "      <td>2091.48</td>\n",
       "      <td>2456.52</td>\n",
       "    </tr>\n",
       "  </tbody>\n",
       "</table>\n",
       "</div>"
      ],
      "text/plain": [
       "  Data Venda Data Envio  ID Loja  ID Produto  ID Cliente       No. Venda  \\\n",
       "0 2008-05-09 2008-05-29      199         384       18839  200805093CS607   \n",
       "\n",
       "   Custo Unitário  Preço Unitário  Quantidade  Valor Desconto  Valor Venda  \\\n",
       "0          348.58           758.0           6             0.0       4548.0   \n",
       "\n",
       "                                 Produto       Fabricante            Marca  \\\n",
       "0  Adventure Works Laptop15.4W M1548 Red  Adventure Works  Adventure Works   \n",
       "\n",
       "    Classe  Cor    Custo    Lucro  \n",
       "0  Regular  Red  2091.48  2456.52  "
      ]
     },
     "execution_count": 12,
     "metadata": {},
     "output_type": "execute_result"
    }
   ],
   "source": [
    "df.head(1)"
   ]
  },
  {
   "cell_type": "code",
   "execution_count": 13,
   "metadata": {},
   "outputs": [
    {
     "data": {
      "text/plain": [
       "3497823.09"
      ]
     },
     "execution_count": 13,
     "metadata": {},
     "output_type": "execute_result"
    }
   ],
   "source": [
    "df.Lucro.sum().round(2)"
   ]
  },
  {
   "cell_type": "code",
   "execution_count": 14,
   "metadata": {},
   "outputs": [],
   "source": [
    "df['Tempo Envio'] = df['Data Envio'] - df['Data Venda']"
   ]
  },
  {
   "cell_type": "code",
   "execution_count": 15,
   "metadata": {},
   "outputs": [
    {
     "data": {
      "text/html": [
       "<div>\n",
       "<style scoped>\n",
       "    .dataframe tbody tr th:only-of-type {\n",
       "        vertical-align: middle;\n",
       "    }\n",
       "\n",
       "    .dataframe tbody tr th {\n",
       "        vertical-align: top;\n",
       "    }\n",
       "\n",
       "    .dataframe thead th {\n",
       "        text-align: right;\n",
       "    }\n",
       "</style>\n",
       "<table border=\"1\" class=\"dataframe\">\n",
       "  <thead>\n",
       "    <tr style=\"text-align: right;\">\n",
       "      <th></th>\n",
       "      <th>Data Venda</th>\n",
       "      <th>Data Envio</th>\n",
       "      <th>ID Loja</th>\n",
       "      <th>ID Produto</th>\n",
       "      <th>ID Cliente</th>\n",
       "      <th>No. Venda</th>\n",
       "      <th>Custo Unitário</th>\n",
       "      <th>Preço Unitário</th>\n",
       "      <th>Quantidade</th>\n",
       "      <th>Valor Desconto</th>\n",
       "      <th>Valor Venda</th>\n",
       "      <th>Produto</th>\n",
       "      <th>Fabricante</th>\n",
       "      <th>Marca</th>\n",
       "      <th>Classe</th>\n",
       "      <th>Cor</th>\n",
       "      <th>Custo</th>\n",
       "      <th>Lucro</th>\n",
       "      <th>Tempo Envio</th>\n",
       "    </tr>\n",
       "  </thead>\n",
       "  <tbody>\n",
       "    <tr>\n",
       "      <th>0</th>\n",
       "      <td>2008-05-09</td>\n",
       "      <td>2008-05-29</td>\n",
       "      <td>199</td>\n",
       "      <td>384</td>\n",
       "      <td>18839</td>\n",
       "      <td>200805093CS607</td>\n",
       "      <td>348.58</td>\n",
       "      <td>758.0</td>\n",
       "      <td>6</td>\n",
       "      <td>0.0</td>\n",
       "      <td>4548.0</td>\n",
       "      <td>Adventure Works Laptop15.4W M1548 Red</td>\n",
       "      <td>Adventure Works</td>\n",
       "      <td>Adventure Works</td>\n",
       "      <td>Regular</td>\n",
       "      <td>Red</td>\n",
       "      <td>2091.48</td>\n",
       "      <td>2456.52</td>\n",
       "      <td>20 days</td>\n",
       "    </tr>\n",
       "  </tbody>\n",
       "</table>\n",
       "</div>"
      ],
      "text/plain": [
       "  Data Venda Data Envio  ID Loja  ID Produto  ID Cliente       No. Venda  \\\n",
       "0 2008-05-09 2008-05-29      199         384       18839  200805093CS607   \n",
       "\n",
       "   Custo Unitário  Preço Unitário  Quantidade  Valor Desconto  Valor Venda  \\\n",
       "0          348.58           758.0           6             0.0       4548.0   \n",
       "\n",
       "                                 Produto       Fabricante            Marca  \\\n",
       "0  Adventure Works Laptop15.4W M1548 Red  Adventure Works  Adventure Works   \n",
       "\n",
       "    Classe  Cor    Custo    Lucro Tempo Envio  \n",
       "0  Regular  Red  2091.48  2456.52     20 days  "
      ]
     },
     "execution_count": 15,
     "metadata": {},
     "output_type": "execute_result"
    }
   ],
   "source": [
    "df.head(1)"
   ]
  },
  {
   "cell_type": "code",
   "execution_count": 19,
   "metadata": {},
   "outputs": [],
   "source": [
    "df['Tempo Envio'] = df['Tempo Envio'].dt.days"
   ]
  },
  {
   "cell_type": "code",
   "execution_count": 23,
   "metadata": {},
   "outputs": [
    {
     "data": {
      "text/plain": [
       "dtype('int64')"
      ]
     },
     "execution_count": 23,
     "metadata": {},
     "output_type": "execute_result"
    }
   ],
   "source": [
    "df['Tempo Envio'].dtype"
   ]
  },
  {
   "cell_type": "code",
   "execution_count": 22,
   "metadata": {},
   "outputs": [
    {
     "data": {
      "text/plain": [
       "Marca\n",
       "Adventure Works    8.663866\n",
       "Contoso            8.470930\n",
       "Fabrikam           8.510121\n",
       "Name: Tempo Envio, dtype: float64"
      ]
     },
     "execution_count": 22,
     "metadata": {},
     "output_type": "execute_result"
    }
   ],
   "source": [
    "df.groupby(\"Marca\")['Tempo Envio'].mean()"
   ]
  },
  {
   "cell_type": "code",
   "execution_count": 25,
   "metadata": {},
   "outputs": [
    {
     "data": {
      "text/plain": [
       "Data Venda        0\n",
       "Data Envio        0\n",
       "ID Loja           0\n",
       "ID Produto        0\n",
       "ID Cliente        0\n",
       "No. Venda         0\n",
       "Custo Unitário    0\n",
       "Preço Unitário    0\n",
       "Quantidade        0\n",
       "Valor Desconto    0\n",
       "Valor Venda       0\n",
       "Produto           0\n",
       "Fabricante        0\n",
       "Marca             0\n",
       "Classe            0\n",
       "Cor               0\n",
       "Custo             0\n",
       "Lucro             0\n",
       "Tempo Envio       0\n",
       "dtype: int64"
      ]
     },
     "execution_count": 25,
     "metadata": {},
     "output_type": "execute_result"
    }
   ],
   "source": [
    "df.isnull().sum()"
   ]
  },
  {
   "cell_type": "code",
   "execution_count": 28,
   "metadata": {},
   "outputs": [
    {
     "data": {
      "text/plain": [
       "Data Venda  Marca          \n",
       "2008        Adventure Works             306,641.16\n",
       "            Contoso                      56,416.00\n",
       "            Fabrikam                  1,557,020.55\n",
       "2009        Adventure Works             405,395.08\n",
       "            Contoso                     138,258.95\n",
       "            Fabrikam                  1,034,091.35\n",
       "Name: Lucro, dtype: float64"
      ]
     },
     "execution_count": 28,
     "metadata": {},
     "output_type": "execute_result"
    }
   ],
   "source": [
    "df.groupby([df['Data Venda'].dt.year, \"Marca\"]).Lucro.sum()"
   ]
  },
  {
   "cell_type": "code",
   "execution_count": 30,
   "metadata": {},
   "outputs": [
    {
     "data": {
      "text/html": [
       "<div>\n",
       "<style scoped>\n",
       "    .dataframe tbody tr th:only-of-type {\n",
       "        vertical-align: middle;\n",
       "    }\n",
       "\n",
       "    .dataframe tbody tr th {\n",
       "        vertical-align: top;\n",
       "    }\n",
       "\n",
       "    .dataframe thead th {\n",
       "        text-align: right;\n",
       "    }\n",
       "</style>\n",
       "<table border=\"1\" class=\"dataframe\">\n",
       "  <thead>\n",
       "    <tr style=\"text-align: right;\">\n",
       "      <th></th>\n",
       "      <th>Data Venda</th>\n",
       "      <th>Marca</th>\n",
       "      <th>Lucro</th>\n",
       "    </tr>\n",
       "  </thead>\n",
       "  <tbody>\n",
       "    <tr>\n",
       "      <th>0</th>\n",
       "      <td>2008</td>\n",
       "      <td>Adventure Works</td>\n",
       "      <td>306,641.16</td>\n",
       "    </tr>\n",
       "    <tr>\n",
       "      <th>1</th>\n",
       "      <td>2008</td>\n",
       "      <td>Contoso</td>\n",
       "      <td>56,416.00</td>\n",
       "    </tr>\n",
       "    <tr>\n",
       "      <th>2</th>\n",
       "      <td>2008</td>\n",
       "      <td>Fabrikam</td>\n",
       "      <td>1,557,020.55</td>\n",
       "    </tr>\n",
       "    <tr>\n",
       "      <th>3</th>\n",
       "      <td>2009</td>\n",
       "      <td>Adventure Works</td>\n",
       "      <td>405,395.08</td>\n",
       "    </tr>\n",
       "    <tr>\n",
       "      <th>4</th>\n",
       "      <td>2009</td>\n",
       "      <td>Contoso</td>\n",
       "      <td>138,258.95</td>\n",
       "    </tr>\n",
       "    <tr>\n",
       "      <th>5</th>\n",
       "      <td>2009</td>\n",
       "      <td>Fabrikam</td>\n",
       "      <td>1,034,091.35</td>\n",
       "    </tr>\n",
       "  </tbody>\n",
       "</table>\n",
       "</div>"
      ],
      "text/plain": [
       "   Data Venda            Marca                Lucro\n",
       "0        2008  Adventure Works           306,641.16\n",
       "1        2008          Contoso            56,416.00\n",
       "2        2008         Fabrikam         1,557,020.55\n",
       "3        2009  Adventure Works           405,395.08\n",
       "4        2009          Contoso           138,258.95\n",
       "5        2009         Fabrikam         1,034,091.35"
      ]
     },
     "execution_count": 30,
     "metadata": {},
     "output_type": "execute_result"
    }
   ],
   "source": [
    "lucro_ano = df.groupby([df['Data Venda'].dt.year, \"Marca\"]).Lucro.sum().reset_index()\n",
    "\n",
    "lucro_ano"
   ]
  },
  {
   "cell_type": "code",
   "execution_count": 31,
   "metadata": {},
   "outputs": [
    {
     "data": {
      "text/plain": [
       "Produto\n",
       "Headphone Adapter for Contoso Phone E130 Silver    25232\n",
       "Headphone Adapter for Contoso Phone E130 White     25008\n",
       "Adventure Works Laptop15.4W M1548 Black             1089\n",
       "Fabrikam Trendsetter 2/3'' 17mm X100 Grey           1087\n",
       "Adventure Works Laptop15.4W M1548 Red               1047\n",
       "Fabrikam Trendsetter 2/3'' 17mm X100 Black           926\n",
       "Fabrikam Trendsetter 1/3'' 8.5mm X200 Black          884\n",
       "Fabrikam Trendsetter 1/3'' 8.5mm X200 Grey           845\n",
       "Fabrikam Trendsetter 1/3'' 8.5mm X200 White          789\n",
       "Name: Quantidade, dtype: int64"
      ]
     },
     "execution_count": 31,
     "metadata": {},
     "output_type": "execute_result"
    }
   ],
   "source": [
    "df.groupby('Produto')['Quantidade'].sum().sort_values(ascending=False)"
   ]
  },
  {
   "cell_type": "code",
   "execution_count": 34,
   "metadata": {},
   "outputs": [
    {
     "data": {
      "text/plain": [
       "<AxesSubplot:ylabel='Produto'>"
      ]
     },
     "execution_count": 34,
     "metadata": {},
     "output_type": "execute_result"
    },
    {
     "data": {
      "image/png": "[encoded data removed]",
      "text/plain": [
       "<Figure size 576x396 with 1 Axes>"
      ]
     },
     "metadata": {},
     "output_type": "display_data"
    }
   ],
   "source": [
    "df.groupby('Produto')['Quantidade'].sum().sort_values(ascending=True).plot.barh()"
   ]
  },
  {
   "cell_type": "code",
   "execution_count": 35,
   "metadata": {},
   "outputs": [
    {
     "data": {
      "text/plain": [
       "<AxesSubplot:xlabel='Data Venda'>"
      ]
     },
     "execution_count": 35,
     "metadata": {},
     "output_type": "execute_result"
    },
    {
     "data": {
      "image/png": "[encoded data removed]",
      "text/plain": [
       "<Figure size 576x396 with 1 Axes>"
      ]
     },
     "metadata": {},
     "output_type": "display_data"
    }
   ],
   "source": [
    "df.groupby(df['Data Venda'].dt.year)['Lucro'].sum().plot.bar()"
   ]
  },
  {
   "cell_type": "code",
   "execution_count": 36,
   "metadata": {},
   "outputs": [
    {
     "data": {
      "text/plain": [
       "Data Venda\n",
       "2008           1,920,077.71\n",
       "2009           1,577,745.38\n",
       "Name: Lucro, dtype: float64"
      ]
     },
     "execution_count": 36,
     "metadata": {},
     "output_type": "execute_result"
    }
   ],
   "source": [
    "df.groupby(df['Data Venda'].dt.year)['Lucro'].sum()"
   ]
  },
  {
   "cell_type": "code",
   "execution_count": 39,
   "metadata": {},
   "outputs": [
    {
     "data": {
      "text/html": [
       "<div>\n",
       "<style scoped>\n",
       "    .dataframe tbody tr th:only-of-type {\n",
       "        vertical-align: middle;\n",
       "    }\n",
       "\n",
       "    .dataframe tbody tr th {\n",
       "        vertical-align: top;\n",
       "    }\n",
       "\n",
       "    .dataframe thead th {\n",
       "        text-align: right;\n",
       "    }\n",
       "</style>\n",
       "<table border=\"1\" class=\"dataframe\">\n",
       "  <thead>\n",
       "    <tr style=\"text-align: right;\">\n",
       "      <th></th>\n",
       "      <th>Data Venda</th>\n",
       "      <th>Data Envio</th>\n",
       "      <th>ID Loja</th>\n",
       "      <th>ID Produto</th>\n",
       "      <th>ID Cliente</th>\n",
       "      <th>No. Venda</th>\n",
       "      <th>Custo Unitário</th>\n",
       "      <th>Preço Unitário</th>\n",
       "      <th>Quantidade</th>\n",
       "      <th>Valor Desconto</th>\n",
       "      <th>Valor Venda</th>\n",
       "      <th>Produto</th>\n",
       "      <th>Fabricante</th>\n",
       "      <th>Marca</th>\n",
       "      <th>Classe</th>\n",
       "      <th>Cor</th>\n",
       "      <th>Custo</th>\n",
       "      <th>Lucro</th>\n",
       "      <th>Tempo Envio</th>\n",
       "    </tr>\n",
       "  </thead>\n",
       "  <tbody>\n",
       "    <tr>\n",
       "      <th>606</th>\n",
       "      <td>2009-12-10</td>\n",
       "      <td>2009-12-22</td>\n",
       "      <td>306</td>\n",
       "      <td>1155</td>\n",
       "      <td>19078</td>\n",
       "      <td>200912104CS780</td>\n",
       "      <td>324.69</td>\n",
       "      <td>980.00</td>\n",
       "      <td>8</td>\n",
       "      <td>1,568.00</td>\n",
       "      <td>6,272.00</td>\n",
       "      <td>Fabrikam Trendsetter 2/3'' 17mm X100 Black</td>\n",
       "      <td>Fabrikam, Inc.</td>\n",
       "      <td>Fabrikam</td>\n",
       "      <td>Regular</td>\n",
       "      <td>Black</td>\n",
       "      <td>2,597.52</td>\n",
       "      <td>3,674.48</td>\n",
       "      <td>12</td>\n",
       "    </tr>\n",
       "    <tr>\n",
       "      <th>148</th>\n",
       "      <td>2009-07-06</td>\n",
       "      <td>2009-07-10</td>\n",
       "      <td>306</td>\n",
       "      <td>366</td>\n",
       "      <td>19070</td>\n",
       "      <td>200907063CS757</td>\n",
       "      <td>348.58</td>\n",
       "      <td>758.00</td>\n",
       "      <td>6</td>\n",
       "      <td>0.00</td>\n",
       "      <td>4,548.00</td>\n",
       "      <td>Adventure Works Laptop15.4W M1548 Black</td>\n",
       "      <td>Adventure Works</td>\n",
       "      <td>Adventure Works</td>\n",
       "      <td>Regular</td>\n",
       "      <td>Black</td>\n",
       "      <td>2,091.48</td>\n",
       "      <td>2,456.52</td>\n",
       "      <td>4</td>\n",
       "    </tr>\n",
       "    <tr>\n",
       "      <th>296</th>\n",
       "      <td>2009-09-16</td>\n",
       "      <td>2009-09-25</td>\n",
       "      <td>307</td>\n",
       "      <td>2497</td>\n",
       "      <td>19135</td>\n",
       "      <td>200909165CS725</td>\n",
       "      <td>5.09</td>\n",
       "      <td>9.99</td>\n",
       "      <td>240</td>\n",
       "      <td>0.00</td>\n",
       "      <td>2,397.60</td>\n",
       "      <td>Headphone Adapter for Contoso Phone E130 White</td>\n",
       "      <td>Contoso, Ltd</td>\n",
       "      <td>Contoso</td>\n",
       "      <td>Economy</td>\n",
       "      <td>White</td>\n",
       "      <td>1,221.60</td>\n",
       "      <td>1,176.00</td>\n",
       "      <td>9</td>\n",
       "    </tr>\n",
       "    <tr>\n",
       "      <th>321</th>\n",
       "      <td>2009-02-18</td>\n",
       "      <td>2009-02-24</td>\n",
       "      <td>306</td>\n",
       "      <td>384</td>\n",
       "      <td>19062</td>\n",
       "      <td>200902183CS737</td>\n",
       "      <td>348.58</td>\n",
       "      <td>758.00</td>\n",
       "      <td>16</td>\n",
       "      <td>848.96</td>\n",
       "      <td>11,279.04</td>\n",
       "      <td>Adventure Works Laptop15.4W M1548 Red</td>\n",
       "      <td>Adventure Works</td>\n",
       "      <td>Adventure Works</td>\n",
       "      <td>Regular</td>\n",
       "      <td>Red</td>\n",
       "      <td>5,577.28</td>\n",
       "      <td>5,701.76</td>\n",
       "      <td>6</td>\n",
       "    </tr>\n",
       "    <tr>\n",
       "      <th>852</th>\n",
       "      <td>2009-02-08</td>\n",
       "      <td>2009-02-14</td>\n",
       "      <td>306</td>\n",
       "      <td>1202</td>\n",
       "      <td>19062</td>\n",
       "      <td>200902084CS737</td>\n",
       "      <td>330.66</td>\n",
       "      <td>998.00</td>\n",
       "      <td>6</td>\n",
       "      <td>419.16</td>\n",
       "      <td>5,568.84</td>\n",
       "      <td>Fabrikam Trendsetter 1/3'' 8.5mm X200 Grey</td>\n",
       "      <td>Fabrikam, Inc.</td>\n",
       "      <td>Fabrikam</td>\n",
       "      <td>Regular</td>\n",
       "      <td>Grey</td>\n",
       "      <td>1,983.96</td>\n",
       "      <td>3,584.88</td>\n",
       "      <td>6</td>\n",
       "    </tr>\n",
       "  </tbody>\n",
       "</table>\n",
       "</div>"
      ],
      "text/plain": [
       "    Data Venda Data Envio  ID Loja  ID Produto  ID Cliente       No. Venda  \\\n",
       "606 2009-12-10 2009-12-22      306        1155       19078  200912104CS780   \n",
       "148 2009-07-06 2009-07-10      306         366       19070  200907063CS757   \n",
       "296 2009-09-16 2009-09-25      307        2497       19135  200909165CS725   \n",
       "321 2009-02-18 2009-02-24      306         384       19062  200902183CS737   \n",
       "852 2009-02-08 2009-02-14      306        1202       19062  200902084CS737   \n",
       "\n",
       "          Custo Unitário       Preço Unitário  Quantidade  \\\n",
       "606               324.69               980.00           8   \n",
       "148               348.58               758.00           6   \n",
       "296                 5.09                 9.99         240   \n",
       "321               348.58               758.00          16   \n",
       "852               330.66               998.00           6   \n",
       "\n",
       "          Valor Desconto          Valor Venda  \\\n",
       "606             1,568.00             6,272.00   \n",
       "148                 0.00             4,548.00   \n",
       "296                 0.00             2,397.60   \n",
       "321               848.96            11,279.04   \n",
       "852               419.16             5,568.84   \n",
       "\n",
       "                                            Produto       Fabricante  \\\n",
       "606      Fabrikam Trendsetter 2/3'' 17mm X100 Black   Fabrikam, Inc.   \n",
       "148         Adventure Works Laptop15.4W M1548 Black  Adventure Works   \n",
       "296  Headphone Adapter for Contoso Phone E130 White     Contoso, Ltd   \n",
       "321           Adventure Works Laptop15.4W M1548 Red  Adventure Works   \n",
       "852      Fabrikam Trendsetter 1/3'' 8.5mm X200 Grey   Fabrikam, Inc.   \n",
       "\n",
       "               Marca   Classe    Cor                Custo  \\\n",
       "606         Fabrikam  Regular  Black             2,597.52   \n",
       "148  Adventure Works  Regular  Black             2,091.48   \n",
       "296          Contoso  Economy  White             1,221.60   \n",
       "321  Adventure Works  Regular    Red             5,577.28   \n",
       "852         Fabrikam  Regular   Grey             1,983.96   \n",
       "\n",
       "                   Lucro  Tempo Envio  \n",
       "606             3,674.48           12  \n",
       "148             2,456.52            4  \n",
       "296             1,176.00            9  \n",
       "321             5,701.76            6  \n",
       "852             3,584.88            6  "
      ]
     },
     "execution_count": 39,
     "metadata": {},
     "output_type": "execute_result"
    }
   ],
   "source": [
    "df_2009 = df[df['Data Venda'].dt.year == 2009]\n",
    "df_2009.sample(5)"
   ]
  },
  {
   "cell_type": "code",
   "execution_count": 41,
   "metadata": {},
   "outputs": [
    {
     "data": {
      "text/plain": [
       "<AxesSubplot:xlabel='Data Venda'>"
      ]
     },
     "execution_count": 41,
     "metadata": {},
     "output_type": "execute_result"
    },
    {
     "data": {
      "image/png": "[encoded data removed]",
      "text/plain": [
       "<Figure size 576x396 with 1 Axes>"
      ]
     },
     "metadata": {},
     "output_type": "display_data"
    }
   ],
   "source": [
    "df_2009.groupby(df['Data Venda'].dt.month)['Lucro'].sum().plot();"
   ]
  },
  {
   "cell_type": "code",
   "execution_count": 44,
   "metadata": {},
   "outputs": [
    {
     "data": {
      "image/png": "[encoded data removed]",
      "text/plain": [
       "<Figure size 576x396 with 1 Axes>"
      ]
     },
     "metadata": {},
     "output_type": "display_data"
    }
   ],
   "source": [
    "df_2009.groupby(df['Marca'])['Lucro'].sum().plot.bar();\n",
    "plt.xticks(rotation='horizontal');"
   ]
  },
  {
   "cell_type": "code",
   "execution_count": 45,
   "metadata": {},
   "outputs": [
    {
     "data": {
      "image/png": "[encoded data removed]",
      "text/plain": [
       "<Figure size 576x396 with 1 Axes>"
      ]
     },
     "metadata": {},
     "output_type": "display_data"
    }
   ],
   "source": [
    "df_2009.groupby(df['Classe'])['Lucro'].sum().plot.bar();\n",
    "plt.xticks(rotation='horizontal');"
   ]
  },
  {
   "cell_type": "code",
   "execution_count": 46,
   "metadata": {},
   "outputs": [
    {
     "data": {
      "text/plain": [
       "count                 904.00\n",
       "mean                    8.54\n",
       "std                     3.06\n",
       "min                     4.00\n",
       "25%                     6.00\n",
       "50%                     9.00\n",
       "75%                    11.00\n",
       "max                    20.00\n",
       "Name: Tempo Envio, dtype: float64"
      ]
     },
     "execution_count": 46,
     "metadata": {},
     "output_type": "execute_result"
    }
   ],
   "source": [
    "df['Tempo Envio'].describe()"
   ]
  },
  {
   "cell_type": "code",
   "execution_count": 49,
   "metadata": {},
   "outputs": [
    {
     "data": {
      "image/png": "[encoded data removed]",
      "text/plain": [
       "<Figure size 576x396 with 1 Axes>"
      ]
     },
     "metadata": {},
     "output_type": "display_data"
    }
   ],
   "source": [
    "plt.boxplot(df['Tempo Envio']);"
   ]
  },
  {
   "cell_type": "code",
   "execution_count": 52,
   "metadata": {},
   "outputs": [
    {
     "data": {
      "image/png": "[encoded data removed]",
      "text/plain": [
       "<Figure size 576x396 with 1 Axes>"
      ]
     },
     "metadata": {},
     "output_type": "display_data"
    }
   ],
   "source": [
    "plt.hist(df['Tempo Envio']);"
   ]
  },
  {
   "cell_type": "code",
   "execution_count": 54,
   "metadata": {},
   "outputs": [
    {
     "data": {
      "text/plain": [
       "4"
      ]
     },
     "execution_count": 54,
     "metadata": {},
     "output_type": "execute_result"
    }
   ],
   "source": [
    "df['Tempo Envio'].min()"
   ]
  },
  {
   "cell_type": "code",
   "execution_count": 55,
   "metadata": {},
   "outputs": [
    {
     "data": {
      "text/plain": [
       "20"
      ]
     },
     "execution_count": 55,
     "metadata": {},
     "output_type": "execute_result"
    }
   ],
   "source": [
    "df['Tempo Envio'].max()"
   ]
  },
  {
   "cell_type": "code",
   "execution_count": 56,
   "metadata": {},
   "outputs": [
    {
     "data": {
      "text/html": [
       "<div>\n",
       "<style scoped>\n",
       "    .dataframe tbody tr th:only-of-type {\n",
       "        vertical-align: middle;\n",
       "    }\n",
       "\n",
       "    .dataframe tbody tr th {\n",
       "        vertical-align: top;\n",
       "    }\n",
       "\n",
       "    .dataframe thead th {\n",
       "        text-align: right;\n",
       "    }\n",
       "</style>\n",
       "<table border=\"1\" class=\"dataframe\">\n",
       "  <thead>\n",
       "    <tr style=\"text-align: right;\">\n",
       "      <th></th>\n",
       "      <th>Data Venda</th>\n",
       "      <th>Data Envio</th>\n",
       "      <th>ID Loja</th>\n",
       "      <th>ID Produto</th>\n",
       "      <th>ID Cliente</th>\n",
       "      <th>No. Venda</th>\n",
       "      <th>Custo Unitário</th>\n",
       "      <th>Preço Unitário</th>\n",
       "      <th>Quantidade</th>\n",
       "      <th>Valor Desconto</th>\n",
       "      <th>Valor Venda</th>\n",
       "      <th>Produto</th>\n",
       "      <th>Fabricante</th>\n",
       "      <th>Marca</th>\n",
       "      <th>Classe</th>\n",
       "      <th>Cor</th>\n",
       "      <th>Custo</th>\n",
       "      <th>Lucro</th>\n",
       "      <th>Tempo Envio</th>\n",
       "    </tr>\n",
       "  </thead>\n",
       "  <tbody>\n",
       "    <tr>\n",
       "      <th>0</th>\n",
       "      <td>2008-05-09</td>\n",
       "      <td>2008-05-29</td>\n",
       "      <td>199</td>\n",
       "      <td>384</td>\n",
       "      <td>18839</td>\n",
       "      <td>200805093CS607</td>\n",
       "      <td>348.58</td>\n",
       "      <td>758.00</td>\n",
       "      <td>6</td>\n",
       "      <td>0.00</td>\n",
       "      <td>4,548.00</td>\n",
       "      <td>Adventure Works Laptop15.4W M1548 Red</td>\n",
       "      <td>Adventure Works</td>\n",
       "      <td>Adventure Works</td>\n",
       "      <td>Regular</td>\n",
       "      <td>Red</td>\n",
       "      <td>2,091.48</td>\n",
       "      <td>2,456.52</td>\n",
       "      <td>20</td>\n",
       "    </tr>\n",
       "  </tbody>\n",
       "</table>\n",
       "</div>"
      ],
      "text/plain": [
       "  Data Venda Data Envio  ID Loja  ID Produto  ID Cliente       No. Venda  \\\n",
       "0 2008-05-09 2008-05-29      199         384       18839  200805093CS607   \n",
       "\n",
       "        Custo Unitário       Preço Unitário  Quantidade       Valor Desconto  \\\n",
       "0               348.58               758.00           6                 0.00   \n",
       "\n",
       "           Valor Venda                                Produto  \\\n",
       "0             4,548.00  Adventure Works Laptop15.4W M1548 Red   \n",
       "\n",
       "        Fabricante            Marca   Classe  Cor                Custo  \\\n",
       "0  Adventure Works  Adventure Works  Regular  Red             2,091.48   \n",
       "\n",
       "                 Lucro  Tempo Envio  \n",
       "0             2,456.52           20  "
      ]
     },
     "execution_count": 56,
     "metadata": {},
     "output_type": "execute_result"
    }
   ],
   "source": [
    "df[df['Tempo Envio'] == 20]"
   ]
  },
  {
   "cell_type": "code",
   "execution_count": 58,
   "metadata": {},
   "outputs": [],
   "source": [
    "# df.to_csv('../datasets/AdventureWorks_new.csv', index=False) # To save the new dataset, uncomment this line "
   ]
  },
  {
   "cell_type": "code",
   "execution_count": null,
   "metadata": {},
   "outputs": [],
   "source": []
  }
 ],
 "metadata": {
  "kernelspec": {
   "display_name": "python (anaconda3)",
   "language": "python",
   "name": "python3"
  },
  "language_info": {
   "codemirror_mode": {
    "name": "ipython",
    "version": 3
   },
   "file_extension": ".py",
   "mimetype": "text/x-python",
   "name": "python",
   "nbconvert_exporter": "python",
   "pygments_lexer": "ipython3",
   "version": "3.7.6"
  },
  "toc": {
   "base_numbering": 1,
   "nav_menu": {},
   "number_sections": true,
   "sideBar": true,
   "skip_h1_title": false,
   "title_cell": "Table of Contents",
   "title_sidebar": "Contents",
   "toc_cell": false,
   "toc_position": {},
   "toc_section_display": true,
   "toc_window_display": true
  }
 },
 "nbformat": 4,
 "nbformat_minor": 4
}
